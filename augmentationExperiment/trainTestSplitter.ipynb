{
 "cells": [
  {
   "cell_type": "code",
   "execution_count": 1,
   "id": "002bd5aa",
   "metadata": {},
   "outputs": [],
   "source": [
    "import os\n",
    "import shutil\n",
    "import random\n",
    "import cv2\n",
    "import numpy as np\n",
    "from tqdm.notebook import trange, tqdm\n",
    "#creates 2 different train sets one has only non-augmented pictures, the other has non augmented and augmented\n",
    "\n",
    "augmentLessRoot = 'augmentLessTrain'\n",
    "augmentedRoot = 'augmentedTrain'\n",
    "testRoot = 'test'\n",
    "\n",
    "def resizeImg(img):\n",
    "    w = 224\n",
    "    h = 224\n",
    "    return cv2.resize(img, (w,h), interpolation = cv2.INTER_AREA)\n",
    "\n",
    "#resets folders\n",
    "def initFolders():\n",
    "    classes = ['stop', 'go', 'back', 'left', 'right']\n",
    "    roots = [augmentLessRoot, augmentedRoot, testRoot]\n",
    "    for r in roots:\n",
    "        if os.path.isdir(f'{r}'):\n",
    "            shutil.rmtree(f'{r}')\n",
    "        os.mkdir(f'{r}')\n",
    "        for c in classes:\n",
    "            os.mkdir(f'{r}/{c}')\n",
    "            \n",
    "initFolders()\n",
    "counter = 0\n",
    "for c in os.listdir(\"data\"):\n",
    "    for imgPath in os.listdir(f'data/{c}'):\n",
    "        imgPathFull = f'data/{c}/{imgPath}'\n",
    "        roll = random.random()\n",
    "        if roll > .2 :#80 20 train test split\n",
    "            shutil.copy(imgPathFull, f'{augmentLessRoot}/{c}/{counter}.png')\n",
    "            shutil.copy(imgPathFull, f'{augmentedRoot}/{c}/{counter}.png')\n",
    "        else:\n",
    "            shutil.copy(imgPathFull, f'{testRoot}/{c}/{counter}.png')\n",
    "        counter += 1\n",
    "\n"
   ]
  },
  {
   "cell_type": "code",
   "execution_count": 2,
   "id": "f4a671ea",
   "metadata": {},
   "outputs": [],
   "source": [
    "#Randomly crops the edges (10%) off of images, changing the ratio of the image and relative position\n",
    "def directionCrop(img):\n",
    "    toReturn = [img]\n",
    "    height = img.shape[0]\n",
    "    width = img.shape[1]\n",
    "    height10 = int(height * .1)\n",
    "    width10 = int(width * .1)\n",
    "    heightStarts = [0, height10]\n",
    "    heightEnds = [height - height10, height]\n",
    "    widthStarts = [0, width10]\n",
    "    widthEnds = [width - width10, width]\n",
    "    for hStart in heightStarts:\n",
    "        for hEnd in heightEnds:\n",
    "            for wStarts in widthStarts:\n",
    "                for wEnds in widthEnds:\n",
    "                    roll = random.random()\n",
    "                    if roll > .6:#40% chance\n",
    "                        toReturn.append(img[hStart:hEnd, wStarts: wEnds])\n",
    "    return toReturn\n",
    "\n",
    "#changes the angle of the image, adding noise the corners where opencv puts black color\n",
    "def angleChange(img, a):\n",
    "    whiteImg = np.ones(img.shape)\n",
    "    height, width = img.shape[:2]\n",
    "    center = (width/2, height/2)\n",
    "    rotate_matrix = cv2.getRotationMatrix2D(center=center, angle=a, scale=1)\n",
    "    rotated_image = cv2.warpAffine(src=img, M=rotate_matrix, dsize=(width, height))\n",
    "    #builds noise to fill the black part of the rotated image\n",
    "    whiteImg =  cv2.warpAffine(src=whiteImg, M=rotate_matrix, dsize=(width, height))\n",
    "    whiteImg = np.where(whiteImg > 0 , 0, 1)\n",
    "    whiteImg = whiteImg *  np.random.uniform(0,1, img.shape)\n",
    "    whiteImg *= 255\n",
    "    whiteImg = whiteImg.astype('uint8')\n",
    "    rotated_image += whiteImg\n",
    "    return rotated_image\n",
    "\n",
    "#processes an image, returning its augmentations\n",
    "def preProcess(img):\n",
    "    toReturn = []\n",
    "    imgs = directionCrop(img)\n",
    "    angles = [-3, 0, 3]\n",
    "    counter = 0\n",
    "    for originalImage in imgs:\n",
    "        originalImage = resizeImg(originalImage)\n",
    "        toReturn.append(originalImage)\n",
    "        for a in angles:\n",
    "            if a != 0:\n",
    "                i = angleChange(originalImage, a)\n",
    "                toReturn.append(i)\n",
    "            else:\n",
    "                i = originalImage\n",
    "            mean = 0\n",
    "            var = 30\n",
    "            sigma = var**0.5\n",
    "            gauss = np.random.normal(mean,sigma,(224,224,3))\n",
    "            noisy = i + gauss\n",
    "            toReturn.append(noisy)\n",
    "    return toReturn"
   ]
  },
  {
   "cell_type": "code",
   "execution_count": 3,
   "id": "c56b4196",
   "metadata": {},
   "outputs": [],
   "source": [
    "#Pass a root and a maximum number of augmentations, augments the pictures in the root directory up to maxAugs per label\n",
    "def augmentFolder(root, maxAugs = None):\n",
    "    for label in os.listdir(root):\n",
    "        idx = 0\n",
    "        imgPaths = os.listdir(f'{root}/{label}')\n",
    "        augmentedImages = []\n",
    "        for imgPath in tqdm(imgPaths):\n",
    "            img = cv2.imread(f'{root}/{label}/{imgPath}', cv2.IMREAD_COLOR)\n",
    "            os.remove(f'{root}/{label}/{imgPath}')\n",
    "            resized = resizeImg(img)\n",
    "            cv2.imwrite(f'{root}/{label}/processed-{idx}.png', resized)\n",
    "            idx += 1\n",
    "            processedImgs = preProcess(img)\n",
    "            for i in processedImgs:\n",
    "                augmentedImages.append(i)\n",
    "        if maxAugs == None:\n",
    "            for img in augmentedImages:\n",
    "                cv2.imwrite(f'{root}/{label}/processed-{idx}.png', img)\n",
    "                idx += 1\n",
    "        else:\n",
    "            for _ in range(maxAugs):\n",
    "                randIndex = int(random.random() * len(augmentedImages))\n",
    "                randImg = augmen tedImages[randIndex]\n",
    "                cv2.imwrite(f'{root}/{label}/processed-{idx}.png', randImg)\n",
    "                idx += 1\n",
    "        "
   ]
  },
  {
   "cell_type": "code",
   "execution_count": 4,
   "id": "05bbae46",
   "metadata": {},
   "outputs": [
    {
     "data": {
      "application/vnd.jupyter.widget-view+json": {
       "model_id": "0d030f51a0af4eb8850ff380f9e92e87",
       "version_major": 2,
       "version_minor": 0
      },
      "text/plain": [
       "  0%|          | 0/52 [00:00<?, ?it/s]"
      ]
     },
     "metadata": {},
     "output_type": "display_data"
    },
    {
     "data": {
      "application/vnd.jupyter.widget-view+json": {
       "model_id": "0fe8aecfb5c940b2b49c051544be257b",
       "version_major": 2,
       "version_minor": 0
      },
      "text/plain": [
       "  0%|          | 0/41 [00:00<?, ?it/s]"
      ]
     },
     "metadata": {},
     "output_type": "display_data"
    },
    {
     "data": {
      "application/vnd.jupyter.widget-view+json": {
       "model_id": "de405167bae241cfb7ef884c5de05a78",
       "version_major": 2,
       "version_minor": 0
      },
      "text/plain": [
       "  0%|          | 0/36 [00:00<?, ?it/s]"
      ]
     },
     "metadata": {},
     "output_type": "display_data"
    },
    {
     "data": {
      "application/vnd.jupyter.widget-view+json": {
       "model_id": "83a3840d823048c68cd4aef2fdc62f9f",
       "version_major": 2,
       "version_minor": 0
      },
      "text/plain": [
       "  0%|          | 0/42 [00:00<?, ?it/s]"
      ]
     },
     "metadata": {},
     "output_type": "display_data"
    },
    {
     "data": {
      "application/vnd.jupyter.widget-view+json": {
       "model_id": "13116b0de4e1401692b28de8b2d4a08d",
       "version_major": 2,
       "version_minor": 0
      },
      "text/plain": [
       "  0%|          | 0/39 [00:00<?, ?it/s]"
      ]
     },
     "metadata": {},
     "output_type": "display_data"
    }
   ],
   "source": [
    "augmentFolder(augmentedRoot, 50)"
   ]
  },
  {
   "cell_type": "code",
   "execution_count": 5,
   "id": "97e8c5e4",
   "metadata": {},
   "outputs": [
    {
     "data": {
      "application/vnd.jupyter.widget-view+json": {
       "model_id": "1bee7e87d5e04061b8a5c64ce39fa0f5",
       "version_major": 2,
       "version_minor": 0
      },
      "text/plain": [
       "  0%|          | 0/4 [00:00<?, ?it/s]"
      ]
     },
     "metadata": {},
     "output_type": "display_data"
    },
    {
     "data": {
      "application/vnd.jupyter.widget-view+json": {
       "model_id": "31f734303921419498e9904ccf8f4f64",
       "version_major": 2,
       "version_minor": 0
      },
      "text/plain": [
       "  0%|          | 0/11 [00:00<?, ?it/s]"
      ]
     },
     "metadata": {},
     "output_type": "display_data"
    },
    {
     "data": {
      "application/vnd.jupyter.widget-view+json": {
       "model_id": "36c75d3c167b4ecdac9123ab4c0533aa",
       "version_major": 2,
       "version_minor": 0
      },
      "text/plain": [
       "  0%|          | 0/18 [00:00<?, ?it/s]"
      ]
     },
     "metadata": {},
     "output_type": "display_data"
    },
    {
     "data": {
      "application/vnd.jupyter.widget-view+json": {
       "model_id": "592d438269ad471db8b16d66ce39836f",
       "version_major": 2,
       "version_minor": 0
      },
      "text/plain": [
       "  0%|          | 0/12 [00:00<?, ?it/s]"
      ]
     },
     "metadata": {},
     "output_type": "display_data"
    },
    {
     "data": {
      "application/vnd.jupyter.widget-view+json": {
       "model_id": "0dc1f303c5cf4b55be47a8fdfff762ca",
       "version_major": 2,
       "version_minor": 0
      },
      "text/plain": [
       "  0%|          | 0/10 [00:00<?, ?it/s]"
      ]
     },
     "metadata": {},
     "output_type": "display_data"
    }
   ],
   "source": [
    "augmentFolder(testRoot)"
   ]
  },
  {
   "cell_type": "code",
   "execution_count": 6,
   "id": "c06d1b3f",
   "metadata": {},
   "outputs": [],
   "source": [
    "#Resizes images in the train set that has no augmentations so it can be passed into the model\n",
    "for label in os.listdir(augmentLessRoot):\n",
    "    for img in os.listdir(f'{augmentLessRoot}/{label}'):\n",
    "        imgPath = f'{augmentLessRoot}/{label}/{img}'\n",
    "        img = cv2.imread(imgPath, cv2.IMREAD_COLOR)\n",
    "        img = resizeImg(img)\n",
    "        cv2.imwrite(imgPath, img)"
   ]
  },
  {
   "cell_type": "code",
   "execution_count": null,
   "id": "e86e8003",
   "metadata": {},
   "outputs": [],
   "source": []
  }
 ],
 "metadata": {
  "kernelspec": {
   "display_name": "Python 3 (ipykernel)",
   "language": "python",
   "name": "python3"
  },
  "language_info": {
   "codemirror_mode": {
    "name": "ipython",
    "version": 3
   },
   "file_extension": ".py",
   "mimetype": "text/x-python",
   "name": "python",
   "nbconvert_exporter": "python",
   "pygments_lexer": "ipython3",
   "version": "3.8.10"
  }
 },
 "nbformat": 4,
 "nbformat_minor": 5
}
