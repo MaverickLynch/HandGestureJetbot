{
 "cells": [
  {
   "cell_type": "code",
   "execution_count": 1,
   "id": "141c3462",
   "metadata": {},
   "outputs": [
    {
     "name": "stdout",
     "output_type": "stream",
     "text": [
      "1.10.0+cu113\n",
      "0.11.1+cu113\n",
      "1.10.0+cu113\n"
     ]
    }
   ],
   "source": [
    "import torch\n",
    "import torch.nn as nn\n",
    "import cv2\n",
    "import os\n",
    "import matplotlib.pyplot as plt\n",
    "import numpy as np\n",
    "from torch.utils.data import TensorDataset, DataLoader\n",
    "from torchvision import datasets, transforms\n",
    "import pandas as pd\n",
    "import torchvision\n",
    "import matplotlib.pyplot as plt\n",
    "import gc\n",
    "gc.collect()\n",
    "torch.cuda.empty_cache()\n",
    "cuda = torch.device('cuda') \n",
    "print(torch.__version__)\n",
    "print(torchvision.__version__)\n",
    "print(torch.__version__)"
   ]
  },
  {
   "cell_type": "code",
   "execution_count": 2,
   "id": "b5320a8c",
   "metadata": {},
   "outputs": [
    {
     "name": "stderr",
     "output_type": "stream",
     "text": [
      "Using cache found in /home/plupiman/.cache/torch/hub/pytorch_vision_v0.10.0\n"
     ]
    }
   ],
   "source": [
    "#load the original mobilenetv2 weights for transfer learning\n",
    "originalMobilenet = torch.hub.load('pytorch/vision:v0.10.0', 'mobilenet_v2', pretrained=True)"
   ]
  },
  {
   "cell_type": "code",
   "execution_count": 3,
   "id": "bf111ff4",
   "metadata": {},
   "outputs": [],
   "source": [
    "#remove all but the classification layer as we have different classes and a different number of them\n",
    "mobilenetLayers = [module for module in originalMobilenet.children()]\n",
    "initialLayers = nn.Sequential(*mobilenetLayers[0:-1])"
   ]
  },
  {
   "cell_type": "code",
   "execution_count": 4,
   "id": "65361917",
   "metadata": {},
   "outputs": [],
   "source": [
    "class newMobilenet(nn.Module):\n",
    "    #outputclasses is the number of output labels the model needs to have \n",
    "    #initial layers is the layers of mobilenet\n",
    "    def __init__(self, outputClasses, initialLayers):\n",
    "        super(newMobilenet,self).__init__()\n",
    "        self.initialLayers = initialLayers\n",
    "        self.finalLayer = nn.Linear(1280   , outputClasses)\n",
    "        self.softmax = nn.Softmax(1)\n",
    "        self.pool = nn.AvgPool2d(7, stride = 1)\n",
    "        \n",
    "    def forward(self, x):\n",
    "        x = self.initialLayers(x)\n",
    "        x = self.pool(x)\n",
    "        x = x.flatten(1)\n",
    "        x = self.finalLayer(x)\n",
    "        x = self.softmax(x)\n",
    "        return x\n",
    "    "
   ]
  },
  {
   "cell_type": "code",
   "execution_count": 5,
   "id": "73899757",
   "metadata": {},
   "outputs": [],
   "source": [
    "#Trains the model with a particular optimizer, error function, set of image transformations, and a directory of images to train from\n",
    "def train(model, optimizer, error, TRANSFORM_IMG, trainDir):\n",
    "    EPOCHS = 10\n",
    "    model.train()\n",
    "    train = datasets.ImageFolder(trainDir, transform =TRANSFORM_IMG )\n",
    "    batchSize = 32\n",
    "    train = DataLoader(train, batch_size=batchSize, shuffle = True)\n",
    "    #used to log the loss per each image, our metric for observing if augmentations have an effect on generalization\n",
    "    lossPerImage = []\n",
    "    #Iterates for each epoch\n",
    "    for epoch in range(EPOCHS):\n",
    "        epochLoss = 0\n",
    "        images = 0\n",
    "        #For every batch in training\n",
    "        for idx, (xBatch, yBatch) in enumerate(train):\n",
    "            xBatch = xBatch.view(-1, 3, 224, 224).to(cuda)\n",
    "            images += xBatch.shape[0]\n",
    "            yBatch = yBatch.to(cuda)\n",
    "            output = model(xBatch)\n",
    "            loss = error(output, yBatch)\n",
    "            epochLoss += loss.item()\n",
    "            loss.backward()\n",
    "            optimizer.step()\n",
    "            optimizer.zero_grad()\n",
    "        lossPerImage.append(epochLoss / images)\n",
    "        print(f'Epoch {epoch} has loss {epochLoss}')\n",
    "\n",
    "        return lossPerImage"
   ]
  },
  {
   "cell_type": "code",
   "execution_count": 6,
   "id": "79a90328",
   "metadata": {},
   "outputs": [],
   "source": [
    "#Tests an algorithims accuracy, outputting the % correct\n",
    "def test(model, TRANSFORM_IMG):\n",
    "    test = datasets.ImageFolder(\"test\", transform =TRANSFORM_IMG )\n",
    "    test = DataLoader(test, batch_size=1)\n",
    "    actual = {}\n",
    "    predicted = {}\n",
    "    classes = [i for i in range(5)]\n",
    "    for c in classes:\n",
    "        actual[c] = 0\n",
    "        predicted[c] = 0\n",
    "    model.eval()\n",
    "    with torch.no_grad():\n",
    "        total = 0\n",
    "        correct = 0\n",
    "        for x, y in test:\n",
    "            total += 1\n",
    "            output = model(x.to(cuda))\n",
    "            chosen = torch.argmax(output)\n",
    "            actual[y.item()] += 1\n",
    "            predicted[chosen.item()] += 1\n",
    "            if chosen == y.to(cuda):\n",
    "                correct += 1\n",
    "        print(f'Accuracy: {correct / total}%')\n",
    "    print(actual)\n",
    "    print(predicted)"
   ]
  },
  {
   "cell_type": "code",
   "execution_count": 7,
   "id": "687fab93",
   "metadata": {},
   "outputs": [
    {
     "name": "stdout",
     "output_type": "stream",
     "text": [
      "Epoch 0 has loss 9.548471689224243\n",
      "Epoch 1 has loss 7.244148671627045\n",
      "Epoch 2 has loss 6.928473889827728\n",
      "Epoch 3 has loss 6.646598041057587\n",
      "Epoch 4 has loss 6.495634853839874\n",
      "Epoch 5 has loss 6.466846466064453\n",
      "Epoch 6 has loss 6.466249585151672\n",
      "Epoch 7 has loss 6.474920153617859\n",
      "Epoch 8 has loss 6.3868807554244995\n",
      "Epoch 9 has loss 6.354267358779907\n",
      "Accuracy: 0.9684702218762165%\n",
      "{0: 876, 1: 196, 2: 540, 3: 473, 4: 484}\n",
      "{0: 925, 1: 148, 2: 565, 3: 475, 4: 456}\n",
      "Epoch 0 has loss 15.535861492156982\n",
      "Epoch 1 has loss 13.95346987247467\n",
      "Epoch 2 has loss 13.913315832614899\n",
      "Epoch 3 has loss 13.967330753803253\n",
      "Epoch 4 has loss 13.943161845207214\n",
      "Epoch 5 has loss 13.7412651181221\n",
      "Epoch 6 has loss 13.714763939380646\n",
      "Epoch 7 has loss 13.883018553256989\n",
      "Epoch 8 has loss 13.82714331150055\n",
      "Epoch 9 has loss 13.837881803512573\n",
      "Accuracy: 0.9696379914363565%\n",
      "{0: 876, 1: 196, 2: 540, 3: 473, 4: 484}\n",
      "{0: 910, 1: 236, 2: 513, 3: 422, 4: 488}\n"
     ]
    }
   ],
   "source": [
    "modelNames = ['augmentLessTrain', 'augmentedTrain']\n",
    "losses = []\n",
    "for m in modelNames:\n",
    "    model = newMobilenet(5, initialLayers)\n",
    "    model = model.to(cuda)\n",
    "    \n",
    "    #Recommended image preprocessing functions from the pytorch website for this particular model\n",
    "    preprocess = transforms.Compose([\n",
    "        transforms.Resize(256),\n",
    "        transforms.CenterCrop(224),\n",
    "        transforms.ToTensor(),\n",
    "        transforms.Normalize(mean=[0.485, 0.456, 0.406], std=[0.229, 0.224, 0.225]),\n",
    "    ])\n",
    "\n",
    "    optimizer = torch.optim.Adam(model.parameters(), lr=0.001)\n",
    "    error = nn.CrossEntropyLoss()\n",
    "    \n",
    "    loss = train(model, optimizer, error, preprocess, m)\n",
    "    losses.append(loss)\n",
    "    test(model, preprocess)\n",
    "    torch.save(model.state_dict(), f'{m}-model.pth')\n"
   ]
  },
  {
   "cell_type": "code",
   "execution_count": 8,
   "id": "37452e93",
   "metadata": {},
   "outputs": [
    {
     "data": {
      "image/png": "[encoded data removed]",
      "text/plain": [
       "<Figure size 432x288 with 1 Axes>"
      ]
     },
     "metadata": {
      "needs_background": "light"
     },
     "output_type": "display_data"
    }
   ],
   "source": [
    "#Plots the loss for each training regimen, showing that using augmentations is better than training without.\n",
    "fig, ax = plt.subplots()\n",
    "ax.plot([x for x in range(len(losses[0]))], losses[0], c = 'RED', label = 'Loss per image without augmentations')\n",
    "ax.plot([x for x in range(len(losses[0]))], losses[1], c = 'BLUE', label = 'Loss per image with augmentations')\n",
    "ax.legend()\n",
    "plt.show()"
   ]
  },
  {
   "cell_type": "code",
   "execution_count": null,
   "id": "52f7152d",
   "metadata": {},
   "outputs": [],
   "source": []
  }
 ],
 "metadata": {
  "kernelspec": {
   "display_name": "Python 3 (ipykernel)",
   "language": "python",
   "name": "python3"
  },
  "language_info": {
   "codemirror_mode": {
    "name": "ipython",
    "version": 3
   },
   "file_extension": ".py",
   "mimetype": "text/x-python",
   "name": "python",
   "nbconvert_exporter": "python",
   "pygments_lexer": "ipython3",
   "version": "3.8.10"
  }
 },
 "nbformat": 4,
 "nbformat_minor": 5
}
