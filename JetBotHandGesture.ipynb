{
 "cells": [
  {
   "cell_type": "code",
   "execution_count": 1,
   "metadata": {},
   "outputs": [],
   "source": [
    "import cv2\n",
    "import os\n",
    "import numpy as np\n",
    "from torch.utils.data import TensorDataset, DataLoader\n",
    "from torchvision import datasets, transforms\n",
    "import gc\n",
    "from PIL import Image\n",
    "import tensorflow as tf\n",
    "from jetbot import Camera\n",
    "import ipywidgets.widgets as widgets\n",
    "from jetbot import Robot\n",
    "import traitlets\n",
    "import matplotlib.pyplot as plt\n"
   ]
  },
  {
   "cell_type": "code",
   "execution_count": 2,
   "metadata": {},
   "outputs": [],
   "source": [
    "from jetbot import Camera\n",
    "import time\n",
    "camera = Camera.instance(width=300, height=300)\n",
    "\n",
    "# for _ in range(10):\n",
    "#     plt.imshow(camera.value)\n",
    "#     plt.show()\n",
    "#     time.sleep(1)"
   ]
  },
  {
   "cell_type": "code",
   "execution_count": 3,
   "metadata": {},
   "outputs": [],
   "source": [
    "savedModel = tf.keras.models.load_model('tfModel-231')"
   ]
  },
  {
   "cell_type": "code",
   "execution_count": null,
   "metadata": {},
   "outputs": [],
   "source": [
    "import matplotlib.pyplot as plt\n",
    "robot = Robot()\n",
    "w = 160\n",
    "h = 160\n",
    "# cam = cv2.VideoCapture(0)\n",
    "toCont = True\n",
    "while toCont:\n",
    "#     ret_val, originalImg = cam.read()\n",
    "#     print(ret_val)\n",
    "    i = cv2.resize(camera.value, (w,h), interpolation = cv2.INTER_AREA)\n",
    "    i = tf.reshape(i, [1, 160, 160, 3])\n",
    "    x = savedModel.predict(i)\n",
    "#     plt.imshow(camera.value)\n",
    "#     plt.show()\n",
    "    print(x)\n",
    "    print(x < 0)\n",
    "    if x < 0: #go\n",
    "        print('go')\n",
    "        robot.left_motor.value = 0.28\n",
    "        robot.right_motor.value = 0.28\n",
    "        time.sleep(1)\n",
    "    else:\n",
    "        print('stop')\n",
    "        robot.stop()\n",
    "        \n",
    "#     cv2.imshow('my webcam', originalImg)\n",
    "#     if cv2.waitKey(1) == 27: \n",
    "#         break  # esc to quit\n",
    "#     time.sleep(.1)\n",
    "\n",
    "# cv2.destroyAllWindows()"
   ]
  },
  {
   "cell_type": "code",
   "execution_count": null,
   "metadata": {},
   "outputs": [],
   "source": [
    "# cam = cv2.VideoCapture(0) # To check the Video Output"
   ]
  },
  {
   "cell_type": "code",
   "execution_count": null,
   "metadata": {},
   "outputs": [],
   "source": [
    "# while True:\n",
    "#     ret_val, originalImg = cam.read()\n",
    "#     cv2.imshow('my webcam', originalImg)\n",
    "#     if cv2.waitKey(1) == 27: \n",
    "#         break  # esc to quit"
   ]
  },
  {
   "cell_type": "code",
   "execution_count": 6,
   "metadata": {},
   "outputs": [],
   "source": [
    "robot.stop()"
   ]
  },
  {
   "cell_type": "code",
   "execution_count": 19,
   "metadata": {},
   "outputs": [],
   "source": [
    "robot.left_motor.value = 0.25\n",
    "robot.right_motor.value = 0.25\n",
    "robot.stop()"
   ]
  }
 ],
 "metadata": {
  "kernelspec": {
   "display_name": "Python 3",
   "language": "python",
   "name": "python3"
  },
  "language_info": {
   "codemirror_mode": {
    "name": "ipython",
    "version": 3
   },
   "file_extension": ".py",
   "mimetype": "text/x-python",
   "name": "python",
   "nbconvert_exporter": "python",
   "pygments_lexer": "ipython3",
   "version": "3.6.9"
  }
 },
 "nbformat": 4,
 "nbformat_minor": 5
}
